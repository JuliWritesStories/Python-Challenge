{
 "cells": [
  {
   "cell_type": "code",
   "execution_count": 2,
   "id": "960154b4",
   "metadata": {},
   "outputs": [
    {
     "data": {
      "text/html": [
       "<div>\n",
       "<style scoped>\n",
       "    .dataframe tbody tr th:only-of-type {\n",
       "        vertical-align: middle;\n",
       "    }\n",
       "\n",
       "    .dataframe tbody tr th {\n",
       "        vertical-align: top;\n",
       "    }\n",
       "\n",
       "    .dataframe thead th {\n",
       "        text-align: right;\n",
       "    }\n",
       "</style>\n",
       "<table border=\"1\" class=\"dataframe\">\n",
       "  <thead>\n",
       "    <tr style=\"text-align: right;\">\n",
       "      <th></th>\n",
       "      <th>Ballot ID</th>\n",
       "      <th>County</th>\n",
       "      <th>Candidate</th>\n",
       "    </tr>\n",
       "  </thead>\n",
       "  <tbody>\n",
       "    <tr>\n",
       "      <th>0</th>\n",
       "      <td>1323913</td>\n",
       "      <td>Jefferson</td>\n",
       "      <td>Charles Casper Stockham</td>\n",
       "    </tr>\n",
       "    <tr>\n",
       "      <th>1</th>\n",
       "      <td>1005842</td>\n",
       "      <td>Jefferson</td>\n",
       "      <td>Charles Casper Stockham</td>\n",
       "    </tr>\n",
       "    <tr>\n",
       "      <th>2</th>\n",
       "      <td>1880345</td>\n",
       "      <td>Jefferson</td>\n",
       "      <td>Charles Casper Stockham</td>\n",
       "    </tr>\n",
       "    <tr>\n",
       "      <th>3</th>\n",
       "      <td>1600337</td>\n",
       "      <td>Jefferson</td>\n",
       "      <td>Charles Casper Stockham</td>\n",
       "    </tr>\n",
       "    <tr>\n",
       "      <th>4</th>\n",
       "      <td>1835994</td>\n",
       "      <td>Jefferson</td>\n",
       "      <td>Charles Casper Stockham</td>\n",
       "    </tr>\n",
       "  </tbody>\n",
       "</table>\n",
       "</div>"
      ],
      "text/plain": [
       "   Ballot ID     County                Candidate\n",
       "0    1323913  Jefferson  Charles Casper Stockham\n",
       "1    1005842  Jefferson  Charles Casper Stockham\n",
       "2    1880345  Jefferson  Charles Casper Stockham\n",
       "3    1600337  Jefferson  Charles Casper Stockham\n",
       "4    1835994  Jefferson  Charles Casper Stockham"
      ]
     },
     "execution_count": 2,
     "metadata": {},
     "output_type": "execute_result"
    }
   ],
   "source": [
    "#import the csv\n",
    "import pandas as pd\n",
    "from pathlib import Path\n",
    "poll_path = Path(\"Resources/election_data.csv\")\n",
    "#create a directory\n",
    "poll_df = pd.read_csv(poll_path)\n",
    "poll_df.head()"
   ]
  },
  {
   "cell_type": "code",
   "execution_count": 3,
   "id": "b5855f6e",
   "metadata": {},
   "outputs": [
    {
     "name": "stdout",
     "output_type": "stream",
     "text": [
      "total votes: 369711\n"
     ]
    }
   ],
   "source": [
    "#find the total number of votes\n",
    "total_Votes = len(poll_df[\"Ballot ID\"].unique())\n",
    "string_Votes = str(total_Votes)\n",
    "txt_Votes = ('total votes: ' + string_Votes)\n",
    "print(txt_Votes)"
   ]
  },
  {
   "cell_type": "code",
   "execution_count": 4,
   "id": "72cb5e2c",
   "metadata": {},
   "outputs": [
    {
     "name": "stdout",
     "output_type": "stream",
     "text": [
      "Charles Casper Stockham: 23.04854332167558% (85213) \n"
     ]
    }
   ],
   "source": [
    "#find the percentage of votes for Charles as well as total votes \n",
    "Charles = poll_df[\"Candidate\"].value_counts()[\"Charles Casper Stockham\"]\n",
    "Percent_Charles = Charles/total_Votes *100\n",
    "String_Charles = str(Charles)\n",
    "StringCP = str(Percent_Charles)\n",
    "txt_Charles = ('Charles Casper Stockham: ' + StringCP + \"%\" + \" (\" + String_Charles + \") \")\n",
    "print(txt_Charles)"
   ]
  },
  {
   "cell_type": "code",
   "execution_count": 5,
   "id": "027a5ba4",
   "metadata": {},
   "outputs": [
    {
     "name": "stdout",
     "output_type": "stream",
     "text": [
      "Diana DeGette: 73.81224794501652% (272892) \n"
     ]
    }
   ],
   "source": [
    "#find the percentage of votes for Diana as well as total votes \n",
    "Diana = poll_df[\"Candidate\"].value_counts()[\"Diana DeGette\"]\n",
    "Percent_Diana = Diana/total_Votes *100\n",
    "String_Diana = str(Diana)\n",
    "StringDD = str(Percent_Diana)\n",
    "txt_Diana = ('Diana DeGette: ' + StringDD + \"%\" + \" (\" + String_Diana + \") \")\n",
    "print(txt_Diana)"
   ]
  },
  {
   "cell_type": "code",
   "execution_count": 6,
   "id": "9db6fbe5",
   "metadata": {},
   "outputs": [
    {
     "name": "stdout",
     "output_type": "stream",
     "text": [
      "Raymon Anthony Doane: 3.1392087333079077% (272892) \n"
     ]
    }
   ],
   "source": [
    "#find the percentage of votes for Raymon as well as total votes \n",
    "Raymon = poll_df[\"Candidate\"].value_counts()[\"Raymon Anthony Doane\"]\n",
    "Percent_Raymon = Raymon/total_Votes *100\n",
    "String_Raymon = str(Diana)\n",
    "StringRAD = str(Percent_Raymon)\n",
    "txt_Raymon = ('Raymon Anthony Doane: ' + StringRAD + \"%\" + \" (\" + String_Raymon + \") \")\n",
    "print(txt_Raymon)"
   ]
  },
  {
   "cell_type": "code",
   "execution_count": 35,
   "id": "6542b63a",
   "metadata": {},
   "outputs": [
    {
     "name": "stdout",
     "output_type": "stream",
     "text": [
      "                 Candidate   Votes\n",
      "0     Raymon Anthony Doane   11606\n",
      "1            Diana DeGette  272892\n",
      "2  Charles Casper Stockham   85213\n",
      "Winner:        Candidate   Votes\n",
      "1  Diana DeGette  272892\n"
     ]
    }
   ],
   "source": [
    "#find the winner of the election\n",
    "All_Votes = pd.DataFrame ({\"Candidate\":[\"Raymon Anthony Doane\",\"Diana DeGette\",\"Charles Casper Stockham\"],\"Votes\":[Raymon,Diana,Charles]})\n",
    "Most_Votes = All_Votes.Votes.astype(int)\n",
    "Winner = Most_Votes.max()\n",
    "Winner_Name = All_Votes.loc[All_Votes [\"Votes\"] == Winner]\n",
    "All_String_Votes = str(All_Votes)\n",
    "txt_All_Votes = All_String_Votes\n",
    "String_Winner = str(Winner_Name)\n",
    "txt_Winner = (\"Winner: \" + String_Winner)\n",
    "print(txt_All_Votes)\n",
    "print(txt_Winner)\n",
    "\n",
    "\n"
   ]
  },
  {
   "cell_type": "code",
   "execution_count": 36,
   "id": "756d1224",
   "metadata": {},
   "outputs": [],
   "source": [
    "#make path\n",
    "path = r'..\\PyPoll\\Analysis\\maindata.txt'\n",
    "#export data\n",
    "with open(path, 'a') as f:\n",
    "    dfs1 = txt_Votes\n",
    "    dfs2 = txt_All_Votes\n",
    "    dfs3 = txt_Winner\n",
    "    f.write(\"[\" + dfs1 + \"]\" + \"[\" + dfs2 + \"]\" + \"[\" + dfs3 + \"]\")\n"
   ]
  },
  {
   "cell_type": "code",
   "execution_count": null,
   "id": "9c1df490",
   "metadata": {},
   "outputs": [],
   "source": []
  }
 ],
 "metadata": {
  "kernelspec": {
   "display_name": "Python 3 (ipykernel)",
   "language": "python",
   "name": "python3"
  },
  "language_info": {
   "codemirror_mode": {
    "name": "ipython",
    "version": 3
   },
   "file_extension": ".py",
   "mimetype": "text/x-python",
   "name": "python",
   "nbconvert_exporter": "python",
   "pygments_lexer": "ipython3",
   "version": "3.11.5"
  }
 },
 "nbformat": 4,
 "nbformat_minor": 5
}
