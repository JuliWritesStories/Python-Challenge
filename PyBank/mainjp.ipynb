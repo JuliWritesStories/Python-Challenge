{
 "cells": [
  {
   "cell_type": "code",
   "execution_count": 42,
   "id": "66c59f39",
   "metadata": {},
   "outputs": [
    {
     "data": {
      "text/html": [
       "<div>\n",
       "<style scoped>\n",
       "    .dataframe tbody tr th:only-of-type {\n",
       "        vertical-align: middle;\n",
       "    }\n",
       "\n",
       "    .dataframe tbody tr th {\n",
       "        vertical-align: top;\n",
       "    }\n",
       "\n",
       "    .dataframe thead th {\n",
       "        text-align: right;\n",
       "    }\n",
       "</style>\n",
       "<table border=\"1\" class=\"dataframe\">\n",
       "  <thead>\n",
       "    <tr style=\"text-align: right;\">\n",
       "      <th></th>\n",
       "      <th>Date</th>\n",
       "      <th>Profit/Losses</th>\n",
       "    </tr>\n",
       "  </thead>\n",
       "  <tbody>\n",
       "    <tr>\n",
       "      <th>0</th>\n",
       "      <td>Jan-10</td>\n",
       "      <td>1088983</td>\n",
       "    </tr>\n",
       "    <tr>\n",
       "      <th>1</th>\n",
       "      <td>Feb-10</td>\n",
       "      <td>-354534</td>\n",
       "    </tr>\n",
       "    <tr>\n",
       "      <th>2</th>\n",
       "      <td>Mar-10</td>\n",
       "      <td>276622</td>\n",
       "    </tr>\n",
       "    <tr>\n",
       "      <th>3</th>\n",
       "      <td>Apr-10</td>\n",
       "      <td>-728133</td>\n",
       "    </tr>\n",
       "    <tr>\n",
       "      <th>4</th>\n",
       "      <td>May-10</td>\n",
       "      <td>852993</td>\n",
       "    </tr>\n",
       "  </tbody>\n",
       "</table>\n",
       "</div>"
      ],
      "text/plain": [
       "     Date  Profit/Losses\n",
       "0  Jan-10        1088983\n",
       "1  Feb-10        -354534\n",
       "2  Mar-10         276622\n",
       "3  Apr-10        -728133\n",
       "4  May-10         852993"
      ]
     },
     "execution_count": 42,
     "metadata": {},
     "output_type": "execute_result"
    }
   ],
   "source": [
    "#import dependencies\n",
    "import pandas as pd\n",
    "from pathlib import Path\n",
    "budget_path = Path(\"Resources/budget_data.csv\")\n",
    "#create a directory\n",
    "budget_df = pd.read_csv(budget_path)\n",
    "budget_df.head()"
   ]
  },
  {
   "cell_type": "code",
   "execution_count": 68,
   "id": "65f7d936",
   "metadata": {},
   "outputs": [
    {
     "name": "stdout",
     "output_type": "stream",
     "text": [
      "total months: 86\n"
     ]
    }
   ],
   "source": [
    "#find the total months\n",
    "total_months = len(budget_df[\"Date\"].unique())\n",
    "string_months = str(total_months)\n",
    "txt_months = ('total months: ' + string_months)\n",
    "print(txt_months)"
   ]
  },
  {
   "cell_type": "code",
   "execution_count": 67,
   "id": "b6c18e52",
   "metadata": {},
   "outputs": [
    {
     "name": "stdout",
     "output_type": "stream",
     "text": [
      "Total: 22564198\n"
     ]
    }
   ],
   "source": [
    "#find net profits\n",
    "net_profits = sum(budget_df[\"Profit/Losses\"])\n",
    "string_profits = str(net_profits)\n",
    "txt_profits = ('Total: ' + string_profits)\n",
    "print(txt_profits)"
   ]
  },
  {
   "cell_type": "code",
   "execution_count": 69,
   "id": "e58f00dc",
   "metadata": {},
   "outputs": [
    {
     "name": "stdout",
     "output_type": "stream",
     "text": [
      "average change: -8311.105882352942\n"
     ]
    }
   ],
   "source": [
    "#find the average change\n",
    "budget_df['shift'] = budget_df[\"Profit/Losses\"].shift(1)\n",
    "budget_df['change'] = budget_df[\"Profit/Losses\"] - budget_df['shift']\n",
    "average = budget_df['change'].mean()\n",
    "string_average = str(average)\n",
    "txt_average = ('average change: ' + string_average)\n",
    "print(txt_average)"
   ]
  },
  {
   "cell_type": "code",
   "execution_count": 65,
   "id": "30180a06",
   "metadata": {},
   "outputs": [
    {
     "name": "stdout",
     "output_type": "stream",
     "text": [
      "      Date  Profit/Losses     shift     change\n",
      "79  Aug-16         951227 -910775.0  1862002.0\n"
     ]
    }
   ],
   "source": [
    "#find the greatest increase in profits\n",
    "Greatest_Increase = budget_df['change'].max()\n",
    "Increase_date = budget_df.loc[budget_df['change'] == Greatest_Increase]\n",
    "String_ID = str(Increase_date)\n",
    "print(String_ID)"
   ]
  },
  {
   "cell_type": "code",
   "execution_count": 66,
   "id": "2e2e8e30",
   "metadata": {},
   "outputs": [
    {
     "name": "stdout",
     "output_type": "stream",
     "text": [
      "      Date  Profit/Losses     shift     change\n",
      "49  Feb-14        -946748  878810.0 -1825558.0\n"
     ]
    }
   ],
   "source": [
    "#find the greatest decrease in profits\n",
    "Greatest_Decrease = budget_df['change'].min()\n",
    "Decrease_date = budget_df.loc[budget_df['change'] == Greatest_Decrease]\n",
    "String_DD = str(Decrease_date)\n",
    "print(String_DD)"
   ]
  },
  {
   "cell_type": "code",
   "execution_count": null,
   "id": "704dcdc9",
   "metadata": {},
   "outputs": [],
   "source": [
    "Print"
   ]
  },
  {
   "cell_type": "code",
   "execution_count": 75,
   "id": "82922ab3",
   "metadata": {},
   "outputs": [],
   "source": [
    "#make path\n",
    "path = r'..\\PyBank\\maindata.txt'\n",
    "#export data\n",
    "with open(path, 'a') as f:\n",
    "    dfs1 = txt_months\n",
    "    dfs2 = txt_profits\n",
    "    dfs3 = txt_average\n",
    "    dfs4 = String_ID\n",
    "    dfs5 = String_DD\n",
    "    f.write(\"[\" + dfs1 + \"]\" + \"[\" + dfs2 + \"]\" + \"[\" + dfs3 + \"]\" + \"[\" + dfs4 + \"]\" + \"[\" + dfs5 + \"]\")\n"
   ]
  },
  {
   "cell_type": "code",
   "execution_count": null,
   "id": "d60ab841",
   "metadata": {},
   "outputs": [],
   "source": []
  }
 ],
 "metadata": {
  "kernelspec": {
   "display_name": "Python 3 (ipykernel)",
   "language": "python",
   "name": "python3"
  },
  "language_info": {
   "codemirror_mode": {
    "name": "ipython",
    "version": 3
   },
   "file_extension": ".py",
   "mimetype": "text/x-python",
   "name": "python",
   "nbconvert_exporter": "python",
   "pygments_lexer": "ipython3",
   "version": "3.11.5"
  }
 },
 "nbformat": 4,
 "nbformat_minor": 5
}
